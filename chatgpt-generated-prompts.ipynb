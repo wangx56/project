{
 "cells": [
  {
   "cell_type": "code",
   "execution_count": 1,
   "id": "82ce41a8",
   "metadata": {
    "execution": {
     "iopub.execute_input": "2023-03-22T19:42:55.612478Z",
     "iopub.status.busy": "2023-03-22T19:42:55.612090Z",
     "iopub.status.idle": "2023-03-22T19:43:08.407651Z",
     "shell.execute_reply": "2023-03-22T19:43:08.406383Z"
    },
    "papermill": {
     "duration": 12.804156,
     "end_time": "2023-03-22T19:43:08.410972",
     "exception": false,
     "start_time": "2023-03-22T19:42:55.606816",
     "status": "completed"
    },
    "tags": []
   },
   "outputs": [
    {
     "name": "stdout",
     "output_type": "stream",
     "text": [
      "\u001b[33mWARNING: Running pip as the 'root' user can result in broken permissions and conflicting behaviour with the system package manager. It is recommended to use a virtual environment instead: https://pip.pypa.io/warnings/venv\u001b[0m\u001b[33m\r\n",
      "\u001b[0m"
     ]
    }
   ],
   "source": [
    "!pip install -U openai -q"
   ]
  },
  {
   "cell_type": "code",
   "execution_count": 2,
   "id": "033a1b86",
   "metadata": {
    "execution": {
     "iopub.execute_input": "2023-03-22T19:43:08.421000Z",
     "iopub.status.busy": "2023-03-22T19:43:08.420542Z",
     "iopub.status.idle": "2023-03-22T19:43:08.976574Z",
     "shell.execute_reply": "2023-03-22T19:43:08.975558Z"
    },
    "papermill": {
     "duration": 0.564717,
     "end_time": "2023-03-22T19:43:08.979471",
     "exception": false,
     "start_time": "2023-03-22T19:43:08.414754",
     "status": "completed"
    },
    "tags": []
   },
   "outputs": [],
   "source": [
    "import openai\n",
    "from kaggle_secrets import UserSecretsClient\n",
    "\n",
    "user_secrets = UserSecretsClient()\n",
    "openai.api_key = user_secrets.get_secret(\"openai_key\")\n",
    "openai.organization = user_secrets.get_secret(\"openai_organization\")"
   ]
  },
  {
   "cell_type": "code",
   "execution_count": 3,
   "id": "7498d1fe",
   "metadata": {
    "_cell_guid": "b1076dfc-b9ad-4769-8c92-a6c4dae69d19",
    "_uuid": "8f2839f25d086af736a60e9eeb907d3b93b6e0e5",
    "execution": {
     "iopub.execute_input": "2023-03-22T19:43:08.988987Z",
     "iopub.status.busy": "2023-03-22T19:43:08.988160Z",
     "iopub.status.idle": "2023-03-22T19:43:23.611151Z",
     "shell.execute_reply": "2023-03-22T19:43:23.609981Z"
    },
    "papermill": {
     "duration": 14.630896,
     "end_time": "2023-03-22T19:43:23.614026",
     "exception": false,
     "start_time": "2023-03-22T19:43:08.983130",
     "status": "completed"
    },
    "tags": []
   },
   "outputs": [],
   "source": [
    "import sys\n",
    "import numpy as np\n",
    "import pandas as pd\n",
    "from pathlib import Path\n",
    "\n",
    "sys.path.append('../input/sentence-transformers-222/sentence-transformers')\n",
    "from sentence_transformers import SentenceTransformer, models\n",
    "\n",
    "comp_path = Path('/kaggle/input/stable-diffusion-image-to-prompts/')"
   ]
  },
  {
   "cell_type": "code",
   "execution_count": 4,
   "id": "3d9e2358",
   "metadata": {
    "execution": {
     "iopub.execute_input": "2023-03-22T19:43:23.624594Z",
     "iopub.status.busy": "2023-03-22T19:43:23.623380Z",
     "iopub.status.idle": "2023-03-22T22:25:24.858183Z",
     "shell.execute_reply": "2023-03-22T22:25:24.856657Z"
    },
    "papermill": {
     "duration": 9721.243684,
     "end_time": "2023-03-22T22:25:24.861598",
     "exception": false,
     "start_time": "2023-03-22T19:43:23.617914",
     "status": "completed"
    },
    "tags": []
   },
   "outputs": [],
   "source": [
    "import re\n",
    "import time\n",
    "from tqdm import tqdm\n",
    "\n",
    "gpt_prompt = '''generate 15 prompts for a text to image AI model. \n",
    "Use a variety of random scenes, and range from fairly simple to fairly complex with multiple objects and modifiers. \n",
    "Use rare and common words to describe the scenes and objects in your prompts.\n",
    "    Here are some examples of such prompts: \n",
    "    \"hyper realistic photo of very friendly and dystopian crater\"\n",
    "    \"ramen carved out of fractal rose ebony, in the style of hudson river school\"\n",
    "    \"ultrasaurus holding a black bean taco in the woods, near an identical cheneosaurus\"\n",
    "    \"a thundering retro robot crane inks on parchment with a droopy french bulldog\"\n",
    "    \"portrait painting of a shimmering greek hero, next to a loud frill-necked lizard\"\n",
    "    \"an astronaut standing on a engaging white rose, in the midst of by ivory cherry blossoms\"\n",
    "    \"Kaggle employee Phil at a donut shop ordering all the best donuts, with a speech bubble that proclaims \"\"Donuts. It's what's for dinner!\"\"\"'''\n",
    "\n",
    "\n",
    "prompts = []\n",
    "while len(prompts) < 5_000:\n",
    "    try:\n",
    "        response = openai.ChatCompletion.create(\n",
    "            model=\"gpt-3.5-turbo\",\n",
    "            messages=[\n",
    "                    {\"role\": \"user\", \"content\": gpt_prompt}\n",
    "                ]\n",
    "            )\n",
    "    except Exception as e:\n",
    "        time.sleep(1)\n",
    "        continue\n",
    "    new_p = response['choices'][0]['message']['content'].replace('\\n\\n', '\\n').strip().split('\\n')\n",
    "    prompts += [re.sub(r\"\\d+\\.[\\) ]+\", \"\", text) for text in new_p]\n",
    "#     time.sleep(1)"
   ]
  },
  {
   "cell_type": "markdown",
   "id": "46a7a971",
   "metadata": {
    "papermill": {
     "duration": 0.003362,
     "end_time": "2023-03-22T22:25:24.868933",
     "exception": false,
     "start_time": "2023-03-22T22:25:24.865571",
     "status": "completed"
    },
    "tags": []
   },
   "source": [
    "### sample generated prompts:"
   ]
  },
  {
   "cell_type": "code",
   "execution_count": 5,
   "id": "d975af4e",
   "metadata": {
    "execution": {
     "iopub.execute_input": "2023-03-22T22:25:24.878885Z",
     "iopub.status.busy": "2023-03-22T22:25:24.878404Z",
     "iopub.status.idle": "2023-03-22T22:25:24.890226Z",
     "shell.execute_reply": "2023-03-22T22:25:24.888428Z"
    },
    "papermill": {
     "duration": 0.020599,
     "end_time": "2023-03-22T22:25:24.893186",
     "exception": false,
     "start_time": "2023-03-22T22:25:24.872587",
     "status": "completed"
    },
    "tags": []
   },
   "outputs": [
    {
     "data": {
      "text/plain": [
       "['A majestic wolf howling at the moon, under a starry sky.',\n",
       " 'A surreal landscape of floating islands, with giant carnival tents and flying balloons.',\n",
       " 'A quaint countryside scene with a red barn, a rolling wheat field, and a vintage pickup truck.',\n",
       " 'A futuristic cityscape with neon lights, hover cars, and a robotic police officer.',\n",
       " 'An underwater scene with a coral reef, a school of colorful fish, and a mermaid lounging on a rock.']"
      ]
     },
     "execution_count": 5,
     "metadata": {},
     "output_type": "execute_result"
    }
   ],
   "source": [
    "prompts[:5]"
   ]
  },
  {
   "cell_type": "code",
   "execution_count": 6,
   "id": "4ed84f80",
   "metadata": {
    "execution": {
     "iopub.execute_input": "2023-03-22T22:25:24.903081Z",
     "iopub.status.busy": "2023-03-22T22:25:24.902618Z",
     "iopub.status.idle": "2023-03-22T22:25:24.953201Z",
     "shell.execute_reply": "2023-03-22T22:25:24.951326Z"
    },
    "papermill": {
     "duration": 0.05914,
     "end_time": "2023-03-22T22:25:24.956377",
     "exception": false,
     "start_time": "2023-03-22T22:25:24.897237",
     "status": "completed"
    },
    "tags": []
   },
   "outputs": [],
   "source": [
    "data = pd.DataFrame(prompts, columns=['prompt'])\n",
    "data.to_csv('gpt_prompts.csv', index_label='prompt_id')"
   ]
  },
  {
   "cell_type": "markdown",
   "id": "95e8a984",
   "metadata": {
    "papermill": {
     "duration": 0.003445,
     "end_time": "2023-03-22T22:25:24.963750",
     "exception": false,
     "start_time": "2023-03-22T22:25:24.960305",
     "status": "completed"
    },
    "tags": []
   },
   "source": [
    "## Generating Embeddings"
   ]
  },
  {
   "cell_type": "code",
   "execution_count": 7,
   "id": "da8d3ead",
   "metadata": {
    "execution": {
     "iopub.execute_input": "2023-03-22T22:25:24.973286Z",
     "iopub.status.busy": "2023-03-22T22:25:24.972788Z",
     "iopub.status.idle": "2023-03-22T22:26:03.456075Z",
     "shell.execute_reply": "2023-03-22T22:26:03.454643Z"
    },
    "papermill": {
     "duration": 38.491525,
     "end_time": "2023-03-22T22:26:03.459004",
     "exception": false,
     "start_time": "2023-03-22T22:25:24.967479",
     "status": "completed"
    },
    "tags": []
   },
   "outputs": [
    {
     "data": {
      "application/vnd.jupyter.widget-view+json": {
       "model_id": "159fa273e6ff4375b1459723f3515afd",
       "version_major": 2,
       "version_minor": 0
      },
      "text/plain": [
       "Batches:   0%|          | 0/157 [00:00<?, ?it/s]"
      ]
     },
     "metadata": {},
     "output_type": "display_data"
    }
   ],
   "source": [
    "st_model = SentenceTransformer('/kaggle/input/sentence-transformers-222/all-MiniLM-L6-v2')\n",
    "prompt_embeddings = st_model.encode(prompts)\n",
    "data = pd.concat((data, pd.DataFrame(prompt_embeddings, columns=[f'eID_{i}' for i in range(384)])), axis=1)\n",
    "data.to_csv('gpt_prompts_embeddings.csv', index_label='prompt_id')"
   ]
  },
  {
   "cell_type": "code",
   "execution_count": 8,
   "id": "fa77f97f",
   "metadata": {
    "execution": {
     "iopub.execute_input": "2023-03-22T22:26:03.470409Z",
     "iopub.status.busy": "2023-03-22T22:26:03.469221Z",
     "iopub.status.idle": "2023-03-22T22:26:03.519323Z",
     "shell.execute_reply": "2023-03-22T22:26:03.518091Z"
    },
    "papermill": {
     "duration": 0.058549,
     "end_time": "2023-03-22T22:26:03.521938",
     "exception": false,
     "start_time": "2023-03-22T22:26:03.463389",
     "status": "completed"
    },
    "tags": []
   },
   "outputs": [
    {
     "data": {
      "text/html": [
       "<div>\n",
       "<style scoped>\n",
       "    .dataframe tbody tr th:only-of-type {\n",
       "        vertical-align: middle;\n",
       "    }\n",
       "\n",
       "    .dataframe tbody tr th {\n",
       "        vertical-align: top;\n",
       "    }\n",
       "\n",
       "    .dataframe thead th {\n",
       "        text-align: right;\n",
       "    }\n",
       "</style>\n",
       "<table border=\"1\" class=\"dataframe\">\n",
       "  <thead>\n",
       "    <tr style=\"text-align: right;\">\n",
       "      <th></th>\n",
       "      <th>prompt</th>\n",
       "      <th>eID_0</th>\n",
       "      <th>eID_1</th>\n",
       "      <th>eID_2</th>\n",
       "      <th>eID_3</th>\n",
       "      <th>eID_4</th>\n",
       "      <th>eID_5</th>\n",
       "      <th>eID_6</th>\n",
       "      <th>eID_7</th>\n",
       "      <th>eID_8</th>\n",
       "      <th>...</th>\n",
       "      <th>eID_374</th>\n",
       "      <th>eID_375</th>\n",
       "      <th>eID_376</th>\n",
       "      <th>eID_377</th>\n",
       "      <th>eID_378</th>\n",
       "      <th>eID_379</th>\n",
       "      <th>eID_380</th>\n",
       "      <th>eID_381</th>\n",
       "      <th>eID_382</th>\n",
       "      <th>eID_383</th>\n",
       "    </tr>\n",
       "  </thead>\n",
       "  <tbody>\n",
       "    <tr>\n",
       "      <th>1517</th>\n",
       "      <td>\"A tranquil scene of a still lake in the early...</td>\n",
       "      <td>-0.028207</td>\n",
       "      <td>0.084464</td>\n",
       "      <td>0.029139</td>\n",
       "      <td>0.041303</td>\n",
       "      <td>0.038876</td>\n",
       "      <td>0.040969</td>\n",
       "      <td>0.063307</td>\n",
       "      <td>0.009103</td>\n",
       "      <td>0.004186</td>\n",
       "      <td>...</td>\n",
       "      <td>-0.027252</td>\n",
       "      <td>0.045377</td>\n",
       "      <td>0.027175</td>\n",
       "      <td>0.033138</td>\n",
       "      <td>-0.087688</td>\n",
       "      <td>-0.034599</td>\n",
       "      <td>-0.008837</td>\n",
       "      <td>0.094204</td>\n",
       "      <td>-0.015810</td>\n",
       "      <td>-0.015743</td>\n",
       "    </tr>\n",
       "    <tr>\n",
       "      <th>4691</th>\n",
       "      <td>A futuristic cityscape of sleek glass skyscrap...</td>\n",
       "      <td>0.077169</td>\n",
       "      <td>0.036943</td>\n",
       "      <td>0.003312</td>\n",
       "      <td>0.000872</td>\n",
       "      <td>0.004201</td>\n",
       "      <td>-0.006136</td>\n",
       "      <td>0.028437</td>\n",
       "      <td>0.000572</td>\n",
       "      <td>-0.071288</td>\n",
       "      <td>...</td>\n",
       "      <td>-0.016884</td>\n",
       "      <td>-0.052017</td>\n",
       "      <td>0.010405</td>\n",
       "      <td>-0.022194</td>\n",
       "      <td>-0.059694</td>\n",
       "      <td>-0.031672</td>\n",
       "      <td>0.065708</td>\n",
       "      <td>0.031305</td>\n",
       "      <td>-0.047030</td>\n",
       "      <td>0.106347</td>\n",
       "    </tr>\n",
       "    <tr>\n",
       "      <th>3390</th>\n",
       "      <td>A surrealist image of a giant flying octopus, ...</td>\n",
       "      <td>0.048939</td>\n",
       "      <td>0.063903</td>\n",
       "      <td>-0.004629</td>\n",
       "      <td>0.020849</td>\n",
       "      <td>0.019647</td>\n",
       "      <td>-0.032174</td>\n",
       "      <td>0.068103</td>\n",
       "      <td>-0.004191</td>\n",
       "      <td>0.008314</td>\n",
       "      <td>...</td>\n",
       "      <td>-0.010416</td>\n",
       "      <td>-0.063954</td>\n",
       "      <td>0.009055</td>\n",
       "      <td>-0.000013</td>\n",
       "      <td>-0.113333</td>\n",
       "      <td>0.043445</td>\n",
       "      <td>0.081409</td>\n",
       "      <td>-0.014877</td>\n",
       "      <td>0.029561</td>\n",
       "      <td>0.080582</td>\n",
       "    </tr>\n",
       "    <tr>\n",
       "      <th>445</th>\n",
       "      <td>\"A futuristic laboratory filled with glowing t...</td>\n",
       "      <td>-0.058321</td>\n",
       "      <td>0.070457</td>\n",
       "      <td>-0.011461</td>\n",
       "      <td>0.001655</td>\n",
       "      <td>-0.000174</td>\n",
       "      <td>-0.051805</td>\n",
       "      <td>0.053020</td>\n",
       "      <td>0.041047</td>\n",
       "      <td>-0.044619</td>\n",
       "      <td>...</td>\n",
       "      <td>0.003014</td>\n",
       "      <td>0.030116</td>\n",
       "      <td>0.012421</td>\n",
       "      <td>-0.017861</td>\n",
       "      <td>-0.161303</td>\n",
       "      <td>0.014283</td>\n",
       "      <td>0.108294</td>\n",
       "      <td>0.079497</td>\n",
       "      <td>0.014728</td>\n",
       "      <td>-0.095140</td>\n",
       "    </tr>\n",
       "    <tr>\n",
       "      <th>3059</th>\n",
       "      <td>\"A hauntingly beautiful sunset over a barren w...</td>\n",
       "      <td>0.092896</td>\n",
       "      <td>0.090350</td>\n",
       "      <td>0.049756</td>\n",
       "      <td>0.034834</td>\n",
       "      <td>0.105679</td>\n",
       "      <td>0.008816</td>\n",
       "      <td>0.071236</td>\n",
       "      <td>-0.055492</td>\n",
       "      <td>0.056846</td>\n",
       "      <td>...</td>\n",
       "      <td>-0.010621</td>\n",
       "      <td>-0.067462</td>\n",
       "      <td>0.043254</td>\n",
       "      <td>0.026749</td>\n",
       "      <td>-0.018511</td>\n",
       "      <td>-0.009758</td>\n",
       "      <td>0.124310</td>\n",
       "      <td>-0.004087</td>\n",
       "      <td>-0.001422</td>\n",
       "      <td>-0.059023</td>\n",
       "    </tr>\n",
       "  </tbody>\n",
       "</table>\n",
       "<p>5 rows × 385 columns</p>\n",
       "</div>"
      ],
      "text/plain": [
       "                                                 prompt     eID_0     eID_1  \\\n",
       "1517  \"A tranquil scene of a still lake in the early... -0.028207  0.084464   \n",
       "4691  A futuristic cityscape of sleek glass skyscrap...  0.077169  0.036943   \n",
       "3390  A surrealist image of a giant flying octopus, ...  0.048939  0.063903   \n",
       "445   \"A futuristic laboratory filled with glowing t... -0.058321  0.070457   \n",
       "3059  \"A hauntingly beautiful sunset over a barren w...  0.092896  0.090350   \n",
       "\n",
       "         eID_2     eID_3     eID_4     eID_5     eID_6     eID_7     eID_8  \\\n",
       "1517  0.029139  0.041303  0.038876  0.040969  0.063307  0.009103  0.004186   \n",
       "4691  0.003312  0.000872  0.004201 -0.006136  0.028437  0.000572 -0.071288   \n",
       "3390 -0.004629  0.020849  0.019647 -0.032174  0.068103 -0.004191  0.008314   \n",
       "445  -0.011461  0.001655 -0.000174 -0.051805  0.053020  0.041047 -0.044619   \n",
       "3059  0.049756  0.034834  0.105679  0.008816  0.071236 -0.055492  0.056846   \n",
       "\n",
       "      ...   eID_374   eID_375   eID_376   eID_377   eID_378   eID_379  \\\n",
       "1517  ... -0.027252  0.045377  0.027175  0.033138 -0.087688 -0.034599   \n",
       "4691  ... -0.016884 -0.052017  0.010405 -0.022194 -0.059694 -0.031672   \n",
       "3390  ... -0.010416 -0.063954  0.009055 -0.000013 -0.113333  0.043445   \n",
       "445   ...  0.003014  0.030116  0.012421 -0.017861 -0.161303  0.014283   \n",
       "3059  ... -0.010621 -0.067462  0.043254  0.026749 -0.018511 -0.009758   \n",
       "\n",
       "       eID_380   eID_381   eID_382   eID_383  \n",
       "1517 -0.008837  0.094204 -0.015810 -0.015743  \n",
       "4691  0.065708  0.031305 -0.047030  0.106347  \n",
       "3390  0.081409 -0.014877  0.029561  0.080582  \n",
       "445   0.108294  0.079497  0.014728 -0.095140  \n",
       "3059  0.124310 -0.004087 -0.001422 -0.059023  \n",
       "\n",
       "[5 rows x 385 columns]"
      ]
     },
     "execution_count": 8,
     "metadata": {},
     "output_type": "execute_result"
    }
   ],
   "source": [
    "data.sample(5)"
   ]
  },
  {
   "cell_type": "code",
   "execution_count": null,
   "id": "c11efbad",
   "metadata": {
    "papermill": {
     "duration": 0.004043,
     "end_time": "2023-03-22T22:26:03.530643",
     "exception": false,
     "start_time": "2023-03-22T22:26:03.526600",
     "status": "completed"
    },
    "tags": []
   },
   "outputs": [],
   "source": []
  }
 ],
 "metadata": {
  "kernelspec": {
   "display_name": "Python 3 (ipykernel)",
   "language": "python",
   "name": "python3"
  },
  "language_info": {
   "codemirror_mode": {
    "name": "ipython",
    "version": 3
   },
   "file_extension": ".py",
   "mimetype": "text/x-python",
   "name": "python",
   "nbconvert_exporter": "python",
   "pygments_lexer": "ipython3",
   "version": "3.9.13"
  },
  "papermill": {
   "default_parameters": {},
   "duration": 9801.168976,
   "end_time": "2023-03-22T22:26:06.179482",
   "environment_variables": {},
   "exception": null,
   "input_path": "__notebook__.ipynb",
   "output_path": "__notebook__.ipynb",
   "parameters": {},
   "start_time": "2023-03-22T19:42:45.010506",
   "version": "2.4.0"
  },
  "widgets": {
   "application/vnd.jupyter.widget-state+json": {
    "state": {
     "15620b0448764b4099337218e684d79d": {
      "model_module": "@jupyter-widgets/controls",
      "model_module_version": "1.5.0",
      "model_name": "DescriptionStyleModel",
      "state": {
       "_model_module": "@jupyter-widgets/controls",
       "_model_module_version": "1.5.0",
       "_model_name": "DescriptionStyleModel",
       "_view_count": null,
       "_view_module": "@jupyter-widgets/base",
       "_view_module_version": "1.2.0",
       "_view_name": "StyleView",
       "description_width": ""
      }
     },
     "159fa273e6ff4375b1459723f3515afd": {
      "model_module": "@jupyter-widgets/controls",
      "model_module_version": "1.5.0",
      "model_name": "HBoxModel",
      "state": {
       "_dom_classes": [],
       "_model_module": "@jupyter-widgets/controls",
       "_model_module_version": "1.5.0",
       "_model_name": "HBoxModel",
       "_view_count": null,
       "_view_module": "@jupyter-widgets/controls",
       "_view_module_version": "1.5.0",
       "_view_name": "HBoxView",
       "box_style": "",
       "children": [
        "IPY_MODEL_9d2178fae8354cdfb862b280004d0fe5",
        "IPY_MODEL_8529918a49384a75835576b9060126ca",
        "IPY_MODEL_3439e0fb4fa843f782e5cd31efac2901"
       ],
       "layout": "IPY_MODEL_e0cc303bae3548aab11fdcbb35570a24"
      }
     },
     "3439e0fb4fa843f782e5cd31efac2901": {
      "model_module": "@jupyter-widgets/controls",
      "model_module_version": "1.5.0",
      "model_name": "HTMLModel",
      "state": {
       "_dom_classes": [],
       "_model_module": "@jupyter-widgets/controls",
       "_model_module_version": "1.5.0",
       "_model_name": "HTMLModel",
       "_view_count": null,
       "_view_module": "@jupyter-widgets/controls",
       "_view_module_version": "1.5.0",
       "_view_name": "HTMLView",
       "description": "",
       "description_tooltip": null,
       "layout": "IPY_MODEL_9bd488420ef54614a994dfd6ef0baa94",
       "placeholder": "​",
       "style": "IPY_MODEL_a5243d7e4d4f4b69b8a89d9caff0a98f",
       "value": " 157/157 [00:32&lt;00:00,  6.92it/s]"
      }
     },
     "422b5c4d228049db8cdf2ead3f217bcb": {
      "model_module": "@jupyter-widgets/base",
      "model_module_version": "1.2.0",
      "model_name": "LayoutModel",
      "state": {
       "_model_module": "@jupyter-widgets/base",
       "_model_module_version": "1.2.0",
       "_model_name": "LayoutModel",
       "_view_count": null,
       "_view_module": "@jupyter-widgets/base",
       "_view_module_version": "1.2.0",
       "_view_name": "LayoutView",
       "align_content": null,
       "align_items": null,
       "align_self": null,
       "border": null,
       "bottom": null,
       "display": null,
       "flex": null,
       "flex_flow": null,
       "grid_area": null,
       "grid_auto_columns": null,
       "grid_auto_flow": null,
       "grid_auto_rows": null,
       "grid_column": null,
       "grid_gap": null,
       "grid_row": null,
       "grid_template_areas": null,
       "grid_template_columns": null,
       "grid_template_rows": null,
       "height": null,
       "justify_content": null,
       "justify_items": null,
       "left": null,
       "margin": null,
       "max_height": null,
       "max_width": null,
       "min_height": null,
       "min_width": null,
       "object_fit": null,
       "object_position": null,
       "order": null,
       "overflow": null,
       "overflow_x": null,
       "overflow_y": null,
       "padding": null,
       "right": null,
       "top": null,
       "visibility": null,
       "width": null
      }
     },
     "5aefcefe2c77439184ed407b13fcd088": {
      "model_module": "@jupyter-widgets/controls",
      "model_module_version": "1.5.0",
      "model_name": "ProgressStyleModel",
      "state": {
       "_model_module": "@jupyter-widgets/controls",
       "_model_module_version": "1.5.0",
       "_model_name": "ProgressStyleModel",
       "_view_count": null,
       "_view_module": "@jupyter-widgets/base",
       "_view_module_version": "1.2.0",
       "_view_name": "StyleView",
       "bar_color": null,
       "description_width": ""
      }
     },
     "8529918a49384a75835576b9060126ca": {
      "model_module": "@jupyter-widgets/controls",
      "model_module_version": "1.5.0",
      "model_name": "FloatProgressModel",
      "state": {
       "_dom_classes": [],
       "_model_module": "@jupyter-widgets/controls",
       "_model_module_version": "1.5.0",
       "_model_name": "FloatProgressModel",
       "_view_count": null,
       "_view_module": "@jupyter-widgets/controls",
       "_view_module_version": "1.5.0",
       "_view_name": "ProgressView",
       "bar_style": "success",
       "description": "",
       "description_tooltip": null,
       "layout": "IPY_MODEL_422b5c4d228049db8cdf2ead3f217bcb",
       "max": 157,
       "min": 0,
       "orientation": "horizontal",
       "style": "IPY_MODEL_5aefcefe2c77439184ed407b13fcd088",
       "value": 157
      }
     },
     "9bd488420ef54614a994dfd6ef0baa94": {
      "model_module": "@jupyter-widgets/base",
      "model_module_version": "1.2.0",
      "model_name": "LayoutModel",
      "state": {
       "_model_module": "@jupyter-widgets/base",
       "_model_module_version": "1.2.0",
       "_model_name": "LayoutModel",
       "_view_count": null,
       "_view_module": "@jupyter-widgets/base",
       "_view_module_version": "1.2.0",
       "_view_name": "LayoutView",
       "align_content": null,
       "align_items": null,
       "align_self": null,
       "border": null,
       "bottom": null,
       "display": null,
       "flex": null,
       "flex_flow": null,
       "grid_area": null,
       "grid_auto_columns": null,
       "grid_auto_flow": null,
       "grid_auto_rows": null,
       "grid_column": null,
       "grid_gap": null,
       "grid_row": null,
       "grid_template_areas": null,
       "grid_template_columns": null,
       "grid_template_rows": null,
       "height": null,
       "justify_content": null,
       "justify_items": null,
       "left": null,
       "margin": null,
       "max_height": null,
       "max_width": null,
       "min_height": null,
       "min_width": null,
       "object_fit": null,
       "object_position": null,
       "order": null,
       "overflow": null,
       "overflow_x": null,
       "overflow_y": null,
       "padding": null,
       "right": null,
       "top": null,
       "visibility": null,
       "width": null
      }
     },
     "9d2178fae8354cdfb862b280004d0fe5": {
      "model_module": "@jupyter-widgets/controls",
      "model_module_version": "1.5.0",
      "model_name": "HTMLModel",
      "state": {
       "_dom_classes": [],
       "_model_module": "@jupyter-widgets/controls",
       "_model_module_version": "1.5.0",
       "_model_name": "HTMLModel",
       "_view_count": null,
       "_view_module": "@jupyter-widgets/controls",
       "_view_module_version": "1.5.0",
       "_view_name": "HTMLView",
       "description": "",
       "description_tooltip": null,
       "layout": "IPY_MODEL_e862a65eb1a745a3a6fa1818e223adb3",
       "placeholder": "​",
       "style": "IPY_MODEL_15620b0448764b4099337218e684d79d",
       "value": "Batches: 100%"
      }
     },
     "a5243d7e4d4f4b69b8a89d9caff0a98f": {
      "model_module": "@jupyter-widgets/controls",
      "model_module_version": "1.5.0",
      "model_name": "DescriptionStyleModel",
      "state": {
       "_model_module": "@jupyter-widgets/controls",
       "_model_module_version": "1.5.0",
       "_model_name": "DescriptionStyleModel",
       "_view_count": null,
       "_view_module": "@jupyter-widgets/base",
       "_view_module_version": "1.2.0",
       "_view_name": "StyleView",
       "description_width": ""
      }
     },
     "e0cc303bae3548aab11fdcbb35570a24": {
      "model_module": "@jupyter-widgets/base",
      "model_module_version": "1.2.0",
      "model_name": "LayoutModel",
      "state": {
       "_model_module": "@jupyter-widgets/base",
       "_model_module_version": "1.2.0",
       "_model_name": "LayoutModel",
       "_view_count": null,
       "_view_module": "@jupyter-widgets/base",
       "_view_module_version": "1.2.0",
       "_view_name": "LayoutView",
       "align_content": null,
       "align_items": null,
       "align_self": null,
       "border": null,
       "bottom": null,
       "display": null,
       "flex": null,
       "flex_flow": null,
       "grid_area": null,
       "grid_auto_columns": null,
       "grid_auto_flow": null,
       "grid_auto_rows": null,
       "grid_column": null,
       "grid_gap": null,
       "grid_row": null,
       "grid_template_areas": null,
       "grid_template_columns": null,
       "grid_template_rows": null,
       "height": null,
       "justify_content": null,
       "justify_items": null,
       "left": null,
       "margin": null,
       "max_height": null,
       "max_width": null,
       "min_height": null,
       "min_width": null,
       "object_fit": null,
       "object_position": null,
       "order": null,
       "overflow": null,
       "overflow_x": null,
       "overflow_y": null,
       "padding": null,
       "right": null,
       "top": null,
       "visibility": null,
       "width": null
      }
     },
     "e862a65eb1a745a3a6fa1818e223adb3": {
      "model_module": "@jupyter-widgets/base",
      "model_module_version": "1.2.0",
      "model_name": "LayoutModel",
      "state": {
       "_model_module": "@jupyter-widgets/base",
       "_model_module_version": "1.2.0",
       "_model_name": "LayoutModel",
       "_view_count": null,
       "_view_module": "@jupyter-widgets/base",
       "_view_module_version": "1.2.0",
       "_view_name": "LayoutView",
       "align_content": null,
       "align_items": null,
       "align_self": null,
       "border": null,
       "bottom": null,
       "display": null,
       "flex": null,
       "flex_flow": null,
       "grid_area": null,
       "grid_auto_columns": null,
       "grid_auto_flow": null,
       "grid_auto_rows": null,
       "grid_column": null,
       "grid_gap": null,
       "grid_row": null,
       "grid_template_areas": null,
       "grid_template_columns": null,
       "grid_template_rows": null,
       "height": null,
       "justify_content": null,
       "justify_items": null,
       "left": null,
       "margin": null,
       "max_height": null,
       "max_width": null,
       "min_height": null,
       "min_width": null,
       "object_fit": null,
       "object_position": null,
       "order": null,
       "overflow": null,
       "overflow_x": null,
       "overflow_y": null,
       "padding": null,
       "right": null,
       "top": null,
       "visibility": null,
       "width": null
      }
     }
    },
    "version_major": 2,
    "version_minor": 0
   }
  }
 },
 "nbformat": 4,
 "nbformat_minor": 5
}
