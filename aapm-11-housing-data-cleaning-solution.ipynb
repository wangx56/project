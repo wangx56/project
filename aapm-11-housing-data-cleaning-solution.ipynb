{
 "cells": [
  {
   "cell_type": "code",
   "execution_count": 1,
   "metadata": {
    "collapsed": true
   },
   "outputs": [],
   "source": [
    "# Load housing.csv into a DataFrame\n",
    "\n",
    "# housing.csv was copied from https://github.com/ageron/handson-ml/tree/master/datasets/housing\n",
    "\n",
    "# This dataset appeared in a 1997 paper titled Sparse Spatial Autoregressions by Pace, R. Kelley and Ronald Barry, published in the Statistics and Probability Letters journal. They built it using the 1990 California census data. It contains one row per census block group. A block group is the smallest geographical unit for which the U.S. Census Bureau publishes sample data (a block group typically has a population of 600 to 3,000 people).\n",
    "\n",
    "import pandas as pd\n",
    "raw_df = pd.read_csv(\"housing.csv\")"
   ]
  },
  {
   "cell_type": "code",
   "execution_count": 2,
   "outputs": [
    {
     "data": {
      "text/plain": "   longitude  latitude  housing_median_age  total_rooms  total_bedrooms  \\\n0    -122.23     37.88                41.0        880.0           129.0   \n1    -122.22     37.86                21.0       7099.0          1106.0   \n2    -122.24     37.85                52.0       1467.0           190.0   \n3    -122.25     37.85                52.0       1274.0           235.0   \n4    -122.25     37.85                52.0       1627.0           280.0   \n5    -122.25     37.85                52.0        919.0           213.0   \n6    -122.25     37.84                52.0       2535.0           489.0   \n7    -122.25     37.84                52.0       3104.0           687.0   \n8    -122.26     37.84                42.0       2555.0           665.0   \n9    -122.25     37.84                52.0       3549.0           707.0   \n\n   population  households  median_income  median_house_value ocean_proximity  \n0       322.0       126.0         8.3252            452600.0        NEAR BAY  \n1      2401.0      1138.0         8.3014            358500.0        NEAR BAY  \n2       496.0       177.0         7.2574            352100.0        NEAR BAY  \n3       558.0       219.0         5.6431            341300.0        NEAR BAY  \n4       565.0       259.0         3.8462            342200.0        NEAR BAY  \n5       413.0       193.0         4.0368            269700.0        NEAR BAY  \n6      1094.0       514.0         3.6591            299200.0        NEAR BAY  \n7      1157.0       647.0         3.1200            241400.0        NEAR BAY  \n8      1206.0       595.0         2.0804            226700.0        NEAR BAY  \n9      1551.0       714.0         3.6912            261100.0        NEAR BAY  ",
      "text/html": "<div>\n<style scoped>\n    .dataframe tbody tr th:only-of-type {\n        vertical-align: middle;\n    }\n\n    .dataframe tbody tr th {\n        vertical-align: top;\n    }\n\n    .dataframe thead th {\n        text-align: right;\n    }\n</style>\n<table border=\"1\" class=\"dataframe\">\n  <thead>\n    <tr style=\"text-align: right;\">\n      <th></th>\n      <th>longitude</th>\n      <th>latitude</th>\n      <th>housing_median_age</th>\n      <th>total_rooms</th>\n      <th>total_bedrooms</th>\n      <th>population</th>\n      <th>households</th>\n      <th>median_income</th>\n      <th>median_house_value</th>\n      <th>ocean_proximity</th>\n    </tr>\n  </thead>\n  <tbody>\n    <tr>\n      <th>0</th>\n      <td>-122.23</td>\n      <td>37.88</td>\n      <td>41.0</td>\n      <td>880.0</td>\n      <td>129.0</td>\n      <td>322.0</td>\n      <td>126.0</td>\n      <td>8.3252</td>\n      <td>452600.0</td>\n      <td>NEAR BAY</td>\n    </tr>\n    <tr>\n      <th>1</th>\n      <td>-122.22</td>\n      <td>37.86</td>\n      <td>21.0</td>\n      <td>7099.0</td>\n      <td>1106.0</td>\n      <td>2401.0</td>\n      <td>1138.0</td>\n      <td>8.3014</td>\n      <td>358500.0</td>\n      <td>NEAR BAY</td>\n    </tr>\n    <tr>\n      <th>2</th>\n      <td>-122.24</td>\n      <td>37.85</td>\n      <td>52.0</td>\n      <td>1467.0</td>\n      <td>190.0</td>\n      <td>496.0</td>\n      <td>177.0</td>\n      <td>7.2574</td>\n      <td>352100.0</td>\n      <td>NEAR BAY</td>\n    </tr>\n    <tr>\n      <th>3</th>\n      <td>-122.25</td>\n      <td>37.85</td>\n      <td>52.0</td>\n      <td>1274.0</td>\n      <td>235.0</td>\n      <td>558.0</td>\n      <td>219.0</td>\n      <td>5.6431</td>\n      <td>341300.0</td>\n      <td>NEAR BAY</td>\n    </tr>\n    <tr>\n      <th>4</th>\n      <td>-122.25</td>\n      <td>37.85</td>\n      <td>52.0</td>\n      <td>1627.0</td>\n      <td>280.0</td>\n      <td>565.0</td>\n      <td>259.0</td>\n      <td>3.8462</td>\n      <td>342200.0</td>\n      <td>NEAR BAY</td>\n    </tr>\n    <tr>\n      <th>5</th>\n      <td>-122.25</td>\n      <td>37.85</td>\n      <td>52.0</td>\n      <td>919.0</td>\n      <td>213.0</td>\n      <td>413.0</td>\n      <td>193.0</td>\n      <td>4.0368</td>\n      <td>269700.0</td>\n      <td>NEAR BAY</td>\n    </tr>\n    <tr>\n      <th>6</th>\n      <td>-122.25</td>\n      <td>37.84</td>\n      <td>52.0</td>\n      <td>2535.0</td>\n      <td>489.0</td>\n      <td>1094.0</td>\n      <td>514.0</td>\n      <td>3.6591</td>\n      <td>299200.0</td>\n      <td>NEAR BAY</td>\n    </tr>\n    <tr>\n      <th>7</th>\n      <td>-122.25</td>\n      <td>37.84</td>\n      <td>52.0</td>\n      <td>3104.0</td>\n      <td>687.0</td>\n      <td>1157.0</td>\n      <td>647.0</td>\n      <td>3.1200</td>\n      <td>241400.0</td>\n      <td>NEAR BAY</td>\n    </tr>\n    <tr>\n      <th>8</th>\n      <td>-122.26</td>\n      <td>37.84</td>\n      <td>42.0</td>\n      <td>2555.0</td>\n      <td>665.0</td>\n      <td>1206.0</td>\n      <td>595.0</td>\n      <td>2.0804</td>\n      <td>226700.0</td>\n      <td>NEAR BAY</td>\n    </tr>\n    <tr>\n      <th>9</th>\n      <td>-122.25</td>\n      <td>37.84</td>\n      <td>52.0</td>\n      <td>3549.0</td>\n      <td>707.0</td>\n      <td>1551.0</td>\n      <td>714.0</td>\n      <td>3.6912</td>\n      <td>261100.0</td>\n      <td>NEAR BAY</td>\n    </tr>\n  </tbody>\n</table>\n</div>"
     },
     "execution_count": 2,
     "metadata": {},
     "output_type": "execute_result"
    }
   ],
   "source": [
    "# Show the first 10 rows of the DataFrame\n",
    "\n",
    "raw_df.head(10)"
   ],
   "metadata": {
    "collapsed": false
   }
  },
  {
   "cell_type": "code",
   "execution_count": 3,
   "outputs": [],
   "source": [
    "# Create lists with the column/feature names of categorical and numeric columns\n",
    "\n",
    "CATEGORICAL_FEATURES = [\"ocean_proximity\"]\n",
    "NUMERIC_FEATURES = [\"housing_median_age\", \"total_rooms\", \"total_bedrooms\", \"households\", \"median_income\", \"median_house_value\"]"
   ],
   "metadata": {
    "collapsed": false
   }
  },
  {
   "cell_type": "code",
   "execution_count": 4,
   "outputs": [
    {
     "data": {
      "text/plain": "longitude               0\nlatitude                0\nhousing_median_age      0\ntotal_rooms             0\ntotal_bedrooms        207\npopulation              0\nhouseholds              0\nmedian_income           0\nmedian_house_value      0\nocean_proximity         0\ndtype: int64"
     },
     "execution_count": 4,
     "metadata": {},
     "output_type": "execute_result"
    }
   ],
   "source": [
    "# Show counts of nulls in each column\n",
    "\n",
    "raw_df.isnull().sum()"
   ],
   "metadata": {
    "collapsed": false
   }
  },
  {
   "cell_type": "code",
   "execution_count": 5,
   "outputs": [
    {
     "name": "stdout",
     "output_type": "stream",
     "text": [
      "ocean_proximity ['NEAR BAY' '<1H OCEAN' 'INLAND' 'NEAR OCEAN' 'ISLAND']\n"
     ]
    }
   ],
   "source": [
    "# Show unique values for each categorical column\n",
    "\n",
    "for feature in CATEGORICAL_FEATURES:\n",
    "    print(feature, raw_df[feature].unique())"
   ],
   "metadata": {
    "collapsed": false
   }
  },
  {
   "cell_type": "code",
   "execution_count": 6,
   "outputs": [
    {
     "data": {
      "text/plain": "      longitude latitude housing_median_age total_rooms total_bedrooms  \\\n0       -122.23    37.88               41.0       880.0          129.0   \n1       -122.22    37.86               21.0      7099.0         1106.0   \n2       -122.24    37.85               52.0      1467.0          190.0   \n3       -122.25    37.85               52.0      1274.0          235.0   \n4       -122.25    37.85               52.0      1627.0          280.0   \n...         ...      ...                ...         ...            ...   \n20635   -121.09    39.48               25.0      1665.0          374.0   \n20636   -121.21    39.49               18.0       697.0          150.0   \n20637   -121.22    39.43               17.0      2254.0          485.0   \n20638   -121.32    39.43               18.0      1860.0          409.0   \n20639   -121.24    39.37               16.0      2785.0          616.0   \n\n      population households median_income median_house_value ocean_proximity  \n0          322.0      126.0        8.3252           452600.0        NEAR BAY  \n1         2401.0     1138.0        8.3014           358500.0        NEAR BAY  \n2          496.0      177.0        7.2574           352100.0        NEAR BAY  \n3          558.0      219.0        5.6431           341300.0        NEAR BAY  \n4          565.0      259.0        3.8462           342200.0        NEAR BAY  \n...          ...        ...           ...                ...             ...  \n20635      845.0      330.0        1.5603            78100.0          INLAND  \n20636      356.0      114.0        2.5568            77100.0          INLAND  \n20637     1007.0      433.0           1.7            92300.0          INLAND  \n20638      741.0      349.0        1.8672            84700.0          INLAND  \n20639     1387.0      530.0        2.3886            89400.0          INLAND  \n\n[20640 rows x 10 columns]",
      "text/html": "<div>\n<style scoped>\n    .dataframe tbody tr th:only-of-type {\n        vertical-align: middle;\n    }\n\n    .dataframe tbody tr th {\n        vertical-align: top;\n    }\n\n    .dataframe thead th {\n        text-align: right;\n    }\n</style>\n<table border=\"1\" class=\"dataframe\">\n  <thead>\n    <tr style=\"text-align: right;\">\n      <th></th>\n      <th>longitude</th>\n      <th>latitude</th>\n      <th>housing_median_age</th>\n      <th>total_rooms</th>\n      <th>total_bedrooms</th>\n      <th>population</th>\n      <th>households</th>\n      <th>median_income</th>\n      <th>median_house_value</th>\n      <th>ocean_proximity</th>\n    </tr>\n  </thead>\n  <tbody>\n    <tr>\n      <th>0</th>\n      <td>-122.23</td>\n      <td>37.88</td>\n      <td>41.0</td>\n      <td>880.0</td>\n      <td>129.0</td>\n      <td>322.0</td>\n      <td>126.0</td>\n      <td>8.3252</td>\n      <td>452600.0</td>\n      <td>NEAR BAY</td>\n    </tr>\n    <tr>\n      <th>1</th>\n      <td>-122.22</td>\n      <td>37.86</td>\n      <td>21.0</td>\n      <td>7099.0</td>\n      <td>1106.0</td>\n      <td>2401.0</td>\n      <td>1138.0</td>\n      <td>8.3014</td>\n      <td>358500.0</td>\n      <td>NEAR BAY</td>\n    </tr>\n    <tr>\n      <th>2</th>\n      <td>-122.24</td>\n      <td>37.85</td>\n      <td>52.0</td>\n      <td>1467.0</td>\n      <td>190.0</td>\n      <td>496.0</td>\n      <td>177.0</td>\n      <td>7.2574</td>\n      <td>352100.0</td>\n      <td>NEAR BAY</td>\n    </tr>\n    <tr>\n      <th>3</th>\n      <td>-122.25</td>\n      <td>37.85</td>\n      <td>52.0</td>\n      <td>1274.0</td>\n      <td>235.0</td>\n      <td>558.0</td>\n      <td>219.0</td>\n      <td>5.6431</td>\n      <td>341300.0</td>\n      <td>NEAR BAY</td>\n    </tr>\n    <tr>\n      <th>4</th>\n      <td>-122.25</td>\n      <td>37.85</td>\n      <td>52.0</td>\n      <td>1627.0</td>\n      <td>280.0</td>\n      <td>565.0</td>\n      <td>259.0</td>\n      <td>3.8462</td>\n      <td>342200.0</td>\n      <td>NEAR BAY</td>\n    </tr>\n    <tr>\n      <th>...</th>\n      <td>...</td>\n      <td>...</td>\n      <td>...</td>\n      <td>...</td>\n      <td>...</td>\n      <td>...</td>\n      <td>...</td>\n      <td>...</td>\n      <td>...</td>\n      <td>...</td>\n    </tr>\n    <tr>\n      <th>20635</th>\n      <td>-121.09</td>\n      <td>39.48</td>\n      <td>25.0</td>\n      <td>1665.0</td>\n      <td>374.0</td>\n      <td>845.0</td>\n      <td>330.0</td>\n      <td>1.5603</td>\n      <td>78100.0</td>\n      <td>INLAND</td>\n    </tr>\n    <tr>\n      <th>20636</th>\n      <td>-121.21</td>\n      <td>39.49</td>\n      <td>18.0</td>\n      <td>697.0</td>\n      <td>150.0</td>\n      <td>356.0</td>\n      <td>114.0</td>\n      <td>2.5568</td>\n      <td>77100.0</td>\n      <td>INLAND</td>\n    </tr>\n    <tr>\n      <th>20637</th>\n      <td>-121.22</td>\n      <td>39.43</td>\n      <td>17.0</td>\n      <td>2254.0</td>\n      <td>485.0</td>\n      <td>1007.0</td>\n      <td>433.0</td>\n      <td>1.7</td>\n      <td>92300.0</td>\n      <td>INLAND</td>\n    </tr>\n    <tr>\n      <th>20638</th>\n      <td>-121.32</td>\n      <td>39.43</td>\n      <td>18.0</td>\n      <td>1860.0</td>\n      <td>409.0</td>\n      <td>741.0</td>\n      <td>349.0</td>\n      <td>1.8672</td>\n      <td>84700.0</td>\n      <td>INLAND</td>\n    </tr>\n    <tr>\n      <th>20639</th>\n      <td>-121.24</td>\n      <td>39.37</td>\n      <td>16.0</td>\n      <td>2785.0</td>\n      <td>616.0</td>\n      <td>1387.0</td>\n      <td>530.0</td>\n      <td>2.3886</td>\n      <td>89400.0</td>\n      <td>INLAND</td>\n    </tr>\n  </tbody>\n</table>\n<p>20640 rows × 10 columns</p>\n</div>"
     },
     "execution_count": 6,
     "metadata": {},
     "output_type": "execute_result"
    }
   ],
   "source": [
    "# Replace nulls in a feature-appropriate way.\n",
    "\n",
    "import numpy as np\n",
    "from sklearn.impute import SimpleImputer\n",
    "\n",
    "non_null_df = pd.DataFrame(SimpleImputer(missing_values=np.nan, strategy=\"most_frequent\").fit_transform(raw_df), columns=raw_df.columns)\n",
    "assert non_null_df.isnull().sum().sum() == 0\n",
    "non_null_df"
   ],
   "metadata": {
    "collapsed": false
   }
  },
  {
   "cell_type": "code",
   "execution_count": 7,
   "outputs": [
    {
     "data": {
      "text/plain": "      longitude latitude  housing_median_age  total_rooms  total_bedrooms  \\\n0       -122.23    37.88            0.982143    -0.804819       -0.967245   \n1       -122.22    37.86           -0.607019     2.045890        1.358707   \n2       -122.24    37.85            1.856182    -0.535746       -0.822021   \n3       -122.25    37.85            1.856182    -0.624215       -0.714889   \n4       -122.25    37.85            1.856182    -0.462404       -0.607758   \n...         ...      ...                 ...          ...             ...   \n20635   -121.09    39.48           -0.289187    -0.444985       -0.383971   \n20636   -121.21    39.49           -0.845393    -0.888704       -0.917250   \n20637   -121.22    39.43           -0.924851    -0.174995       -0.119712   \n20638   -121.32    39.43           -0.845393    -0.355600       -0.300646   \n20639   -121.24    39.37           -1.004309     0.068408        0.192160   \n\n      population  households  median_income  median_house_value  \\\n0          322.0   -0.977033       2.344766            2.129631   \n1         2401.0    1.669961       2.332238            1.314156   \n2          496.0   -0.843637       1.782699            1.258693   \n3          558.0   -0.733781       0.932968            1.165100   \n4          565.0   -0.629157      -0.012881            1.172900   \n...          ...         ...            ...                 ...   \n20635      845.0   -0.443449      -1.216128           -1.115804   \n20636      356.0   -1.008420      -0.691593           -1.124470   \n20637     1007.0   -0.174042      -1.142593           -0.992746   \n20638      741.0   -0.393753      -1.054583           -1.058608   \n20639     1387.0    0.079672      -0.780129           -1.017878   \n\n      ocean_proximity  \n0            NEAR BAY  \n1            NEAR BAY  \n2            NEAR BAY  \n3            NEAR BAY  \n4            NEAR BAY  \n...               ...  \n20635          INLAND  \n20636          INLAND  \n20637          INLAND  \n20638          INLAND  \n20639          INLAND  \n\n[20640 rows x 10 columns]",
      "text/html": "<div>\n<style scoped>\n    .dataframe tbody tr th:only-of-type {\n        vertical-align: middle;\n    }\n\n    .dataframe tbody tr th {\n        vertical-align: top;\n    }\n\n    .dataframe thead th {\n        text-align: right;\n    }\n</style>\n<table border=\"1\" class=\"dataframe\">\n  <thead>\n    <tr style=\"text-align: right;\">\n      <th></th>\n      <th>longitude</th>\n      <th>latitude</th>\n      <th>housing_median_age</th>\n      <th>total_rooms</th>\n      <th>total_bedrooms</th>\n      <th>population</th>\n      <th>households</th>\n      <th>median_income</th>\n      <th>median_house_value</th>\n      <th>ocean_proximity</th>\n    </tr>\n  </thead>\n  <tbody>\n    <tr>\n      <th>0</th>\n      <td>-122.23</td>\n      <td>37.88</td>\n      <td>0.982143</td>\n      <td>-0.804819</td>\n      <td>-0.967245</td>\n      <td>322.0</td>\n      <td>-0.977033</td>\n      <td>2.344766</td>\n      <td>2.129631</td>\n      <td>NEAR BAY</td>\n    </tr>\n    <tr>\n      <th>1</th>\n      <td>-122.22</td>\n      <td>37.86</td>\n      <td>-0.607019</td>\n      <td>2.045890</td>\n      <td>1.358707</td>\n      <td>2401.0</td>\n      <td>1.669961</td>\n      <td>2.332238</td>\n      <td>1.314156</td>\n      <td>NEAR BAY</td>\n    </tr>\n    <tr>\n      <th>2</th>\n      <td>-122.24</td>\n      <td>37.85</td>\n      <td>1.856182</td>\n      <td>-0.535746</td>\n      <td>-0.822021</td>\n      <td>496.0</td>\n      <td>-0.843637</td>\n      <td>1.782699</td>\n      <td>1.258693</td>\n      <td>NEAR BAY</td>\n    </tr>\n    <tr>\n      <th>3</th>\n      <td>-122.25</td>\n      <td>37.85</td>\n      <td>1.856182</td>\n      <td>-0.624215</td>\n      <td>-0.714889</td>\n      <td>558.0</td>\n      <td>-0.733781</td>\n      <td>0.932968</td>\n      <td>1.165100</td>\n      <td>NEAR BAY</td>\n    </tr>\n    <tr>\n      <th>4</th>\n      <td>-122.25</td>\n      <td>37.85</td>\n      <td>1.856182</td>\n      <td>-0.462404</td>\n      <td>-0.607758</td>\n      <td>565.0</td>\n      <td>-0.629157</td>\n      <td>-0.012881</td>\n      <td>1.172900</td>\n      <td>NEAR BAY</td>\n    </tr>\n    <tr>\n      <th>...</th>\n      <td>...</td>\n      <td>...</td>\n      <td>...</td>\n      <td>...</td>\n      <td>...</td>\n      <td>...</td>\n      <td>...</td>\n      <td>...</td>\n      <td>...</td>\n      <td>...</td>\n    </tr>\n    <tr>\n      <th>20635</th>\n      <td>-121.09</td>\n      <td>39.48</td>\n      <td>-0.289187</td>\n      <td>-0.444985</td>\n      <td>-0.383971</td>\n      <td>845.0</td>\n      <td>-0.443449</td>\n      <td>-1.216128</td>\n      <td>-1.115804</td>\n      <td>INLAND</td>\n    </tr>\n    <tr>\n      <th>20636</th>\n      <td>-121.21</td>\n      <td>39.49</td>\n      <td>-0.845393</td>\n      <td>-0.888704</td>\n      <td>-0.917250</td>\n      <td>356.0</td>\n      <td>-1.008420</td>\n      <td>-0.691593</td>\n      <td>-1.124470</td>\n      <td>INLAND</td>\n    </tr>\n    <tr>\n      <th>20637</th>\n      <td>-121.22</td>\n      <td>39.43</td>\n      <td>-0.924851</td>\n      <td>-0.174995</td>\n      <td>-0.119712</td>\n      <td>1007.0</td>\n      <td>-0.174042</td>\n      <td>-1.142593</td>\n      <td>-0.992746</td>\n      <td>INLAND</td>\n    </tr>\n    <tr>\n      <th>20638</th>\n      <td>-121.32</td>\n      <td>39.43</td>\n      <td>-0.845393</td>\n      <td>-0.355600</td>\n      <td>-0.300646</td>\n      <td>741.0</td>\n      <td>-0.393753</td>\n      <td>-1.054583</td>\n      <td>-1.058608</td>\n      <td>INLAND</td>\n    </tr>\n    <tr>\n      <th>20639</th>\n      <td>-121.24</td>\n      <td>39.37</td>\n      <td>-1.004309</td>\n      <td>0.068408</td>\n      <td>0.192160</td>\n      <td>1387.0</td>\n      <td>0.079672</td>\n      <td>-0.780129</td>\n      <td>-1.017878</td>\n      <td>INLAND</td>\n    </tr>\n  </tbody>\n</table>\n<p>20640 rows × 10 columns</p>\n</div>"
     },
     "execution_count": 7,
     "metadata": {},
     "output_type": "execute_result"
    }
   ],
   "source": [
    "# Standardize the numeric features\n",
    "\n",
    "from sklearn.preprocessing import StandardScaler\n",
    "\n",
    "standardized_df = non_null_df.copy()\n",
    "standardized_df[NUMERIC_FEATURES] = StandardScaler().fit_transform(non_null_df[NUMERIC_FEATURES])\n",
    "standardized_df"
   ],
   "metadata": {
    "collapsed": false
   }
  },
  {
   "cell_type": "code",
   "execution_count": 8,
   "outputs": [
    {
     "data": {
      "text/plain": "      longitude latitude  housing_median_age  total_rooms  total_bedrooms  \\\n0       -122.23    37.88            0.982143    -0.804819       -0.967245   \n1       -122.22    37.86           -0.607019     2.045890        1.358707   \n2       -122.24    37.85            1.856182    -0.535746       -0.822021   \n3       -122.25    37.85            1.856182    -0.624215       -0.714889   \n4       -122.25    37.85            1.856182    -0.462404       -0.607758   \n...         ...      ...                 ...          ...             ...   \n20635   -121.09    39.48           -0.289187    -0.444985       -0.383971   \n20636   -121.21    39.49           -0.845393    -0.888704       -0.917250   \n20637   -121.22    39.43           -0.924851    -0.174995       -0.119712   \n20638   -121.32    39.43           -0.845393    -0.355600       -0.300646   \n20639   -121.24    39.37           -1.004309     0.068408        0.192160   \n\n      population  households  median_income  median_house_value  \\\n0          322.0   -0.977033       2.344766            2.129631   \n1         2401.0    1.669961       2.332238            1.314156   \n2          496.0   -0.843637       1.782699            1.258693   \n3          558.0   -0.733781       0.932968            1.165100   \n4          565.0   -0.629157      -0.012881            1.172900   \n...          ...         ...            ...                 ...   \n20635      845.0   -0.443449      -1.216128           -1.115804   \n20636      356.0   -1.008420      -0.691593           -1.124470   \n20637     1007.0   -0.174042      -1.142593           -0.992746   \n20638      741.0   -0.393753      -1.054583           -1.058608   \n20639     1387.0    0.079672      -0.780129           -1.017878   \n\n       ocean_proximity_<1H OCEAN  ocean_proximity_INLAND  \\\n0                              0                       0   \n1                              0                       0   \n2                              0                       0   \n3                              0                       0   \n4                              0                       0   \n...                          ...                     ...   \n20635                          0                       1   \n20636                          0                       1   \n20637                          0                       1   \n20638                          0                       1   \n20639                          0                       1   \n\n       ocean_proximity_ISLAND  ocean_proximity_NEAR BAY  \\\n0                           0                         1   \n1                           0                         1   \n2                           0                         1   \n3                           0                         1   \n4                           0                         1   \n...                       ...                       ...   \n20635                       0                         0   \n20636                       0                         0   \n20637                       0                         0   \n20638                       0                         0   \n20639                       0                         0   \n\n       ocean_proximity_NEAR OCEAN  \n0                               0  \n1                               0  \n2                               0  \n3                               0  \n4                               0  \n...                           ...  \n20635                           0  \n20636                           0  \n20637                           0  \n20638                           0  \n20639                           0  \n\n[20640 rows x 14 columns]",
      "text/html": "<div>\n<style scoped>\n    .dataframe tbody tr th:only-of-type {\n        vertical-align: middle;\n    }\n\n    .dataframe tbody tr th {\n        vertical-align: top;\n    }\n\n    .dataframe thead th {\n        text-align: right;\n    }\n</style>\n<table border=\"1\" class=\"dataframe\">\n  <thead>\n    <tr style=\"text-align: right;\">\n      <th></th>\n      <th>longitude</th>\n      <th>latitude</th>\n      <th>housing_median_age</th>\n      <th>total_rooms</th>\n      <th>total_bedrooms</th>\n      <th>population</th>\n      <th>households</th>\n      <th>median_income</th>\n      <th>median_house_value</th>\n      <th>ocean_proximity_&lt;1H OCEAN</th>\n      <th>ocean_proximity_INLAND</th>\n      <th>ocean_proximity_ISLAND</th>\n      <th>ocean_proximity_NEAR BAY</th>\n      <th>ocean_proximity_NEAR OCEAN</th>\n    </tr>\n  </thead>\n  <tbody>\n    <tr>\n      <th>0</th>\n      <td>-122.23</td>\n      <td>37.88</td>\n      <td>0.982143</td>\n      <td>-0.804819</td>\n      <td>-0.967245</td>\n      <td>322.0</td>\n      <td>-0.977033</td>\n      <td>2.344766</td>\n      <td>2.129631</td>\n      <td>0</td>\n      <td>0</td>\n      <td>0</td>\n      <td>1</td>\n      <td>0</td>\n    </tr>\n    <tr>\n      <th>1</th>\n      <td>-122.22</td>\n      <td>37.86</td>\n      <td>-0.607019</td>\n      <td>2.045890</td>\n      <td>1.358707</td>\n      <td>2401.0</td>\n      <td>1.669961</td>\n      <td>2.332238</td>\n      <td>1.314156</td>\n      <td>0</td>\n      <td>0</td>\n      <td>0</td>\n      <td>1</td>\n      <td>0</td>\n    </tr>\n    <tr>\n      <th>2</th>\n      <td>-122.24</td>\n      <td>37.85</td>\n      <td>1.856182</td>\n      <td>-0.535746</td>\n      <td>-0.822021</td>\n      <td>496.0</td>\n      <td>-0.843637</td>\n      <td>1.782699</td>\n      <td>1.258693</td>\n      <td>0</td>\n      <td>0</td>\n      <td>0</td>\n      <td>1</td>\n      <td>0</td>\n    </tr>\n    <tr>\n      <th>3</th>\n      <td>-122.25</td>\n      <td>37.85</td>\n      <td>1.856182</td>\n      <td>-0.624215</td>\n      <td>-0.714889</td>\n      <td>558.0</td>\n      <td>-0.733781</td>\n      <td>0.932968</td>\n      <td>1.165100</td>\n      <td>0</td>\n      <td>0</td>\n      <td>0</td>\n      <td>1</td>\n      <td>0</td>\n    </tr>\n    <tr>\n      <th>4</th>\n      <td>-122.25</td>\n      <td>37.85</td>\n      <td>1.856182</td>\n      <td>-0.462404</td>\n      <td>-0.607758</td>\n      <td>565.0</td>\n      <td>-0.629157</td>\n      <td>-0.012881</td>\n      <td>1.172900</td>\n      <td>0</td>\n      <td>0</td>\n      <td>0</td>\n      <td>1</td>\n      <td>0</td>\n    </tr>\n    <tr>\n      <th>...</th>\n      <td>...</td>\n      <td>...</td>\n      <td>...</td>\n      <td>...</td>\n      <td>...</td>\n      <td>...</td>\n      <td>...</td>\n      <td>...</td>\n      <td>...</td>\n      <td>...</td>\n      <td>...</td>\n      <td>...</td>\n      <td>...</td>\n      <td>...</td>\n    </tr>\n    <tr>\n      <th>20635</th>\n      <td>-121.09</td>\n      <td>39.48</td>\n      <td>-0.289187</td>\n      <td>-0.444985</td>\n      <td>-0.383971</td>\n      <td>845.0</td>\n      <td>-0.443449</td>\n      <td>-1.216128</td>\n      <td>-1.115804</td>\n      <td>0</td>\n      <td>1</td>\n      <td>0</td>\n      <td>0</td>\n      <td>0</td>\n    </tr>\n    <tr>\n      <th>20636</th>\n      <td>-121.21</td>\n      <td>39.49</td>\n      <td>-0.845393</td>\n      <td>-0.888704</td>\n      <td>-0.917250</td>\n      <td>356.0</td>\n      <td>-1.008420</td>\n      <td>-0.691593</td>\n      <td>-1.124470</td>\n      <td>0</td>\n      <td>1</td>\n      <td>0</td>\n      <td>0</td>\n      <td>0</td>\n    </tr>\n    <tr>\n      <th>20637</th>\n      <td>-121.22</td>\n      <td>39.43</td>\n      <td>-0.924851</td>\n      <td>-0.174995</td>\n      <td>-0.119712</td>\n      <td>1007.0</td>\n      <td>-0.174042</td>\n      <td>-1.142593</td>\n      <td>-0.992746</td>\n      <td>0</td>\n      <td>1</td>\n      <td>0</td>\n      <td>0</td>\n      <td>0</td>\n    </tr>\n    <tr>\n      <th>20638</th>\n      <td>-121.32</td>\n      <td>39.43</td>\n      <td>-0.845393</td>\n      <td>-0.355600</td>\n      <td>-0.300646</td>\n      <td>741.0</td>\n      <td>-0.393753</td>\n      <td>-1.054583</td>\n      <td>-1.058608</td>\n      <td>0</td>\n      <td>1</td>\n      <td>0</td>\n      <td>0</td>\n      <td>0</td>\n    </tr>\n    <tr>\n      <th>20639</th>\n      <td>-121.24</td>\n      <td>39.37</td>\n      <td>-1.004309</td>\n      <td>0.068408</td>\n      <td>0.192160</td>\n      <td>1387.0</td>\n      <td>0.079672</td>\n      <td>-0.780129</td>\n      <td>-1.017878</td>\n      <td>0</td>\n      <td>1</td>\n      <td>0</td>\n      <td>0</td>\n      <td>0</td>\n    </tr>\n  </tbody>\n</table>\n<p>20640 rows × 14 columns</p>\n</div>"
     },
     "execution_count": 8,
     "metadata": {},
     "output_type": "execute_result"
    }
   ],
   "source": [
    "# One-hot encode the categorical features\n",
    "\n",
    "import pandas as pd\n",
    "\n",
    "encoded_df = pd.get_dummies(standardized_df, columns=CATEGORICAL_FEATURES)\n",
    "encoded_df"
   ],
   "metadata": {
    "collapsed": false
   }
  },
  {
   "cell_type": "code",
   "execution_count": 9,
   "outputs": [],
   "source": [
    "# Check that we preserved latitude and longitude throughout\n",
    "\n",
    "for feature in (\"latitude\", \"longitude\"):\n",
    "    assert encoded_df[feature].tolist() == raw_df[feature].tolist()\n",
    "for feature in NUMERIC_FEATURES:\n",
    "    assert encoded_df[feature].tolist() == standardized_df[feature].tolist()"
   ],
   "metadata": {
    "collapsed": false
   }
  }
 ],
 "metadata": {
  "kernelspec": {
   "display_name": "Python 3",
   "language": "python",
   "name": "python3"
  },
  "language_info": {
   "codemirror_mode": {
    "name": "ipython",
    "version": 2
   },
   "file_extension": ".py",
   "mimetype": "text/x-python",
   "name": "python",
   "nbconvert_exporter": "python",
   "pygments_lexer": "ipython2",
   "version": "2.7.6"
  }
 },
 "nbformat": 4,
 "nbformat_minor": 0
}
